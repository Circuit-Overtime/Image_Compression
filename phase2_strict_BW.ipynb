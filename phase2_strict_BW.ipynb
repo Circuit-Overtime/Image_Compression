{
 "cells": [
  {
   "cell_type": "code",
   "execution_count": 11,
   "metadata": {},
   "outputs": [
    {
     "name": "stdout",
     "output_type": "stream",
     "text": [
      "📦 Packed Only Size (Bytes): 2048\n",
      "✅ Saved .lix file as image_bw.lix, size: 2048 bytes\n"
     ]
    }
   ],
   "source": [
    "from PIL import Image\n",
    "import numpy as np\n",
    "\n",
    "def pack_bw_1bit(image_array):\n",
    "    flat = image_array.flatten()\n",
    "    packed = []\n",
    "\n",
    "    for i in range(0, len(flat), 8):\n",
    "        byte = 0\n",
    "        for j in range(8):\n",
    "            if i + j < len(flat):\n",
    "                byte |= (flat[i + j] & 1) << (7 - j)\n",
    "        packed.append(byte)\n",
    "\n",
    "    return bytes(packed)\n",
    "\n",
    "def unpack_bw_1bit(packed_data, shape):\n",
    "    total_pixels = shape[0] * shape[1]\n",
    "    flat = []\n",
    "\n",
    "    for byte in packed_data:\n",
    "        for i in range(7, -1, -1):\n",
    "            flat.append((byte >> i) & 1)\n",
    "            if len(flat) == total_pixels:\n",
    "                break\n",
    "\n",
    "    return np.array(flat, dtype=np.uint8).reshape(shape)\n",
    "\n",
    "def rle_encode(data):\n",
    "    encoded = []\n",
    "    prev = data[0]\n",
    "    count = 1\n",
    "\n",
    "    for byte in data[1:]:\n",
    "        if byte == prev and count < 255:\n",
    "            count += 1\n",
    "        else:\n",
    "            encoded.extend([count, prev])\n",
    "            prev = byte\n",
    "            count = 1\n",
    "\n",
    "    encoded.extend([count, prev])\n",
    "    return bytes(encoded)\n",
    "\n",
    "def rle_decode(encoded):\n",
    "    decoded = []\n",
    "    for i in range(0, len(encoded), 2):\n",
    "        count = encoded[i]\n",
    "        value = encoded[i + 1]\n",
    "        decoded.extend([value] * count)\n",
    "    return bytes(decoded)\n",
    "\n",
    "\n",
    "# Load strict BW image\n",
    "bw_image = Image.open(\"sbw2.png\").resize((128, 128)).convert(\"1\")  # 1-bit mode\n",
    "bw_array = (np.array(bw_image) > 0).astype(np.uint8)  # Ensure 0 and 1 explicitly\n",
    "\n",
    "\n",
    "# Bit-pack only\n",
    "packed = pack_bw_1bit(bw_array)\n",
    "print(\"📦 Packed Only Size (Bytes):\", len(packed))\n",
    "\n",
    "# # Bit-pack + RLE\n",
    "# rle_packed = rle_encode(packed)\n",
    "# print(\"📦 Packed + RLE Size (Bytes):\", len(rle_packed))\n",
    "\n",
    "# Save .lix file with better strategy\n",
    "best_data = packed\n",
    "with open(\"image_bw.lix\", \"wb\") as f:\n",
    "    f.write(b'BW1' + bytes([1 if best_data == packed else 0]))  # Simple header\n",
    "    f.write(best_data)\n",
    "\n",
    "print(f\"✅ Saved .lix file as image_bw.lix, size: {len(best_data)} bytes\")\n"
   ]
  },
  {
   "cell_type": "code",
   "execution_count": 12,
   "metadata": {},
   "outputs": [
    {
     "name": "stdout",
     "output_type": "stream",
     "text": [
      "✅ Decoded and saved image as decoded_output.png\n"
     ]
    }
   ],
   "source": [
    "import numpy as np\n",
    "from PIL import Image\n",
    "\n",
    "def unpack_bw_1bit(packed_data, shape):\n",
    "    total_pixels = shape[0] * shape[1]\n",
    "    flat = []\n",
    "\n",
    "    for byte in packed_data:\n",
    "        for i in range(7, -1, -1):\n",
    "            flat.append((byte >> i) & 1)\n",
    "            if len(flat) == total_pixels:\n",
    "                break\n",
    "\n",
    "    return np.array(flat, dtype=np.uint8).reshape(shape)\n",
    "\n",
    "def rle_decode(encoded):\n",
    "    decoded = []\n",
    "    for i in range(0, len(encoded), 2):\n",
    "        count = encoded[i]\n",
    "        value = encoded[i + 1]\n",
    "        decoded.extend([value] * count)\n",
    "    return bytes(decoded)\n",
    "\n",
    "def decode_bw_lix(filepath, output_png=\"decoded_bw.png\", size=(128, 128)):\n",
    "    with open(filepath, \"rb\") as f:\n",
    "        header = f.read(4)\n",
    "        if header[:3] != b'BW1':\n",
    "            raise ValueError(\"Not a valid BW1 LIX file.\")\n",
    "        \n",
    "        mode = header[3]  # 1 = bit-packed only, 0 = RLE + packed\n",
    "        data = f.read()\n",
    "\n",
    "        if mode == 1:\n",
    "            packed = data\n",
    "        elif mode == 0:\n",
    "            packed = rle_decode(data)\n",
    "        else:\n",
    "            raise ValueError(\"Unknown compression mode.\")\n",
    "\n",
    "    img_array = unpack_bw_1bit(packed, size) * 255\n",
    "    img = Image.fromarray(img_array.astype(np.uint8), mode=\"L\")\n",
    "    img.save(output_png)\n",
    "    print(f\"✅ Decoded and saved image as {output_png}\")\n",
    "\n",
    "# Example usage:\n",
    "decode_bw_lix(\"image_bw.lix\", \"decoded_output.png\", size=(128, 128))\n"
   ]
  },
  {
   "cell_type": "code",
   "execution_count": 16,
   "metadata": {},
   "outputs": [
    {
     "name": "stdout",
     "output_type": "stream",
     "text": [
      "Original Image Size: 1296 bytes\n",
      ".lix File Size: 2052 bytes\n",
      "Decoded Image Size: 1296 bytes\n",
      "Compression Ratio (Original / .lix): 0.63\n"
     ]
    }
   ],
   "source": [
    "import os\n",
    "\n",
    "def compare_file_sizes(original_image_path, lix_file_path, decoded_image_path):\n",
    "    # Get file sizes\n",
    "    original_size = os.path.getsize(original_image_path)\n",
    "    lix_size = os.path.getsize(lix_file_path)\n",
    "    decoded_size = os.path.getsize(decoded_image_path)\n",
    "\n",
    "    # Print the sizes\n",
    "    print(f\"Original Image Size: {original_size} bytes\")\n",
    "    print(f\".lix File Size: {lix_size} bytes\")\n",
    "    print(f\"Decoded Image Size: {decoded_size} bytes\")\n",
    "\n",
    "    # Compare sizes\n",
    "    compression_ratio = original_size / lix_size if lix_size > 0 else float('inf')\n",
    "    print(f\"Compression Ratio (Original / .lix): {compression_ratio:.2f}\")\n",
    "\n",
    "# Example usage:\n",
    "compare_file_sizes(\"sbw2.png\", \"image_bw.lix\", \"decoded_output.png\")"
   ]
  }
 ],
 "metadata": {
  "kernelspec": {
   "display_name": "Python 3",
   "language": "python",
   "name": "python3"
  },
  "language_info": {
   "codemirror_mode": {
    "name": "ipython",
    "version": 3
   },
   "file_extension": ".py",
   "mimetype": "text/x-python",
   "name": "python",
   "nbconvert_exporter": "python",
   "pygments_lexer": "ipython3",
   "version": "3.12.4"
  }
 },
 "nbformat": 4,
 "nbformat_minor": 2
}
