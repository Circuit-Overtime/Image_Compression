{
 "cells": [
  {
   "cell_type": "code",
   "execution_count": 24,
   "metadata": {},
   "outputs": [
    {
     "ename": "TypeError",
     "evalue": "only integer scalar arrays can be converted to a scalar index",
     "output_type": "error",
     "traceback": [
      "\u001b[31m---------------------------------------------------------------------------\u001b[39m",
      "\u001b[31mTypeError\u001b[39m                                 Traceback (most recent call last)",
      "\u001b[36mCell\u001b[39m\u001b[36m \u001b[39m\u001b[32mIn[24]\u001b[39m\u001b[32m, line 2\u001b[39m\n\u001b[32m      1\u001b[39m \u001b[38;5;28;01mfrom\u001b[39;00m \u001b[34;01mmaster_lix_encoder\u001b[39;00m \u001b[38;5;28;01mimport\u001b[39;00m save_lix_image\n\u001b[32m----> \u001b[39m\u001b[32m2\u001b[39m \u001b[43msave_lix_image\u001b[49m\u001b[43m(\u001b[49m\u001b[33;43m\"\u001b[39;49m\u001b[33;43mexp2.jpg\u001b[39;49m\u001b[33;43m\"\u001b[39;49m\u001b[43m,\u001b[49m\u001b[43m \u001b[49m\u001b[33;43m\"\u001b[39;49m\u001b[33;43mgray.lix\u001b[39;49m\u001b[33;43m\"\u001b[39;49m\u001b[43m)\u001b[49m\n\u001b[32m      3\u001b[39m save_lix_image(\u001b[33m\"\u001b[39m\u001b[33mexp3.png\u001b[39m\u001b[33m\"\u001b[39m, \u001b[33m\"\u001b[39m\u001b[33mbw.lix\u001b[39m\u001b[33m\"\u001b[39m)\n\u001b[32m      4\u001b[39m save_lix_image(\u001b[33m\"\u001b[39m\u001b[33mexp4.jpg\u001b[39m\u001b[33m\"\u001b[39m, \u001b[33m\"\u001b[39m\u001b[33mrgb.lix\u001b[39m\u001b[33m\"\u001b[39m)\n",
      "\u001b[36mFile \u001b[39m\u001b[32me:\\image_compressor\\master_lix_encoder.py:378\u001b[39m, in \u001b[36msave_lix_image\u001b[39m\u001b[34m(image_path, output_path)\u001b[39m\n\u001b[32m    376\u001b[39m \u001b[38;5;28;01melse\u001b[39;00m:\n\u001b[32m    377\u001b[39m     method = \u001b[32m3\u001b[39m  \u001b[38;5;66;03m# Delta + Bitpack + Brotli\u001b[39;00m\n\u001b[32m--> \u001b[39m\u001b[32m378\u001b[39m     compressed = \u001b[43mcompress_delta_bitpack_brotli\u001b[49m\u001b[43m(\u001b[49m\u001b[43marr\u001b[49m\u001b[43m)\u001b[49m\n\u001b[32m    380\u001b[39m header = \u001b[33mb\u001b[39m\u001b[33m\"\u001b[39m\u001b[33mLIXF\u001b[39m\u001b[33m\"\u001b[39m + struct.pack(\u001b[33m\"\u001b[39m\u001b[33m>HHBB\u001b[39m\u001b[33m\"\u001b[39m, width, height, \u001b[32m0x03\u001b[39m, method)\n\u001b[32m    381\u001b[39m \u001b[38;5;28;01mwith\u001b[39;00m \u001b[38;5;28mopen\u001b[39m(output_path, \u001b[33m\"\u001b[39m\u001b[33mwb\u001b[39m\u001b[33m\"\u001b[39m) \u001b[38;5;28;01mas\u001b[39;00m f:\n",
      "\u001b[36mFile \u001b[39m\u001b[32me:\\image_compressor\\master_lix_encoder.py:242\u001b[39m, in \u001b[36mcompress_delta_bitpack_brotli\u001b[39m\u001b[34m(img_arr)\u001b[39m\n\u001b[32m    240\u001b[39m \u001b[38;5;28;01mdef\u001b[39;00m \u001b[34mcompress_delta_bitpack_brotli\u001b[39m(img_arr):\n\u001b[32m    241\u001b[39m     delta = delta_encode_rgb(img_arr)\n\u001b[32m--> \u001b[39m\u001b[32m242\u001b[39m     packed = \u001b[43mbitpack_rgb\u001b[49m\u001b[43m(\u001b[49m\u001b[43mdelta\u001b[49m\u001b[43m)\u001b[49m\n\u001b[32m    243\u001b[39m     \u001b[38;5;28;01mreturn\u001b[39;00m brotli.compress(packed)\n",
      "\u001b[36mFile \u001b[39m\u001b[32me:\\image_compressor\\master_lix_encoder.py:290\u001b[39m, in \u001b[36mbitpack_rgb\u001b[39m\u001b[34m(delta_array)\u001b[39m\n\u001b[32m    288\u001b[39m     \u001b[38;5;28;01mif\u001b[39;00m bits_filled >= \u001b[32m8\u001b[39m:\n\u001b[32m    289\u001b[39m         bits_filled -= \u001b[32m8\u001b[39m\n\u001b[32m--> \u001b[39m\u001b[32m290\u001b[39m         \u001b[43mpacked\u001b[49m\u001b[43m.\u001b[49m\u001b[43mappend\u001b[49m\u001b[43m(\u001b[49m\u001b[43m(\u001b[49m\u001b[43mbuffer\u001b[49m\u001b[43m \u001b[49m\u001b[43m>>\u001b[49m\u001b[43m \u001b[49m\u001b[43mbits_filled\u001b[49m\u001b[43m)\u001b[49m\u001b[43m \u001b[49m\u001b[43m&\u001b[49m\u001b[43m \u001b[49m\u001b[32;43m0xFF\u001b[39;49m\u001b[43m)\u001b[49m\n\u001b[32m    292\u001b[39m \u001b[38;5;66;03m# Handle final leftover bits\u001b[39;00m\n\u001b[32m    293\u001b[39m \u001b[38;5;28;01mif\u001b[39;00m bits_filled > \u001b[32m0\u001b[39m:\n",
      "\u001b[31mTypeError\u001b[39m: only integer scalar arrays can be converted to a scalar index"
     ]
    }
   ],
   "source": [
    "from master_lix_encoder import save_lix_image\n",
    "save_lix_image(\"exp2.jpg\", \"gray.lix\")\n",
    "save_lix_image(\"exp3.png\", \"bw.lix\")\n",
    "save_lix_image(\"exp4.jpg\", \"rgb.lix\")\n",
    "save_lix_image(\"exp_rgba.png\", \"rgba.lix\")\n"
   ]
  }
 ],
 "metadata": {
  "kernelspec": {
   "display_name": "Python 3",
   "language": "python",
   "name": "python3"
  },
  "language_info": {
   "codemirror_mode": {
    "name": "ipython",
    "version": 3
   },
   "file_extension": ".py",
   "mimetype": "text/x-python",
   "name": "python",
   "nbconvert_exporter": "python",
   "pygments_lexer": "ipython3",
   "version": "3.12.4"
  }
 },
 "nbformat": 4,
 "nbformat_minor": 2
}
